{
 "cells": [
  {
   "cell_type": "markdown",
   "metadata": {},
   "source": [
    "# 芯片资源调配"
   ]
  },
  {
   "cell_type": "markdown",
   "metadata": {},
   "source": [
    "## 单个芯片"
   ]
  },
  {
   "cell_type": "markdown",
   "metadata": {},
   "source": [
    "资源调度方法出自<span style=\"color:red\">神经元计算机操作系统的资源分配方法</span>，语言选用LAVA"
   ]
  },
  {
   "cell_type": "code",
   "execution_count": 2,
   "metadata": {},
   "outputs": [],
   "source": [
    "class Event:\n",
    "    def __init__(self, spike=None, count=0, next_event=None):\n",
    "        self.spike = spike\n",
    "        self.count = count\n",
    "        self.next = next_event"
   ]
  },
  {
   "cell_type": "code",
   "execution_count": 5,
   "metadata": {},
   "outputs": [],
   "source": [
    "class Subgraph:\n",
    "    def __init__(self, cfg_info=None):\n",
    "        self.cfg_info = cfg_info\n",
    "        self.ar_event_head = None\n",
    "        self.ar_event_tail = None\n",
    "        self.le_event_head = None\n",
    "        self.le_event_tail = None\n",
    "\n",
    "    def add_ar_event(self, event):\n",
    "        if not self.ar_event_head:\n",
    "            self.ar_event_head = self.ar_event_tail = event\n",
    "        else:\n",
    "            self.ar_event_tail.next = event\n",
    "            self.ar_event_tail = event\n",
    "\n",
    "    def add_le_event(self, event):\n",
    "        if not self.le_event_head:\n",
    "            self.le_event_head = self.le_event_tail = event\n",
    "        else:\n",
    "            self.le_event_tail.next = event\n",
    "            self.le_event_tail = event\n"
   ]
  },
  {
   "cell_type": "code",
   "execution_count": 6,
   "metadata": {},
   "outputs": [],
   "source": [
    "class Graph:\n",
    "    def __init__(self):\n",
    "        self.subgraphs = []  # 存储所有 subgraph\n",
    "        self.edges = {}  # 键是 subgraph, 值是一个列表，包含可以达到的其他 subgraph\n",
    "\n",
    "    def add_subgraph(self, subgraph):\n",
    "        self.subgraphs.append(subgraph)\n",
    "        self.edges[subgraph] = []\n",
    "\n",
    "    def add_edge(self, from_subgraph, to_subgraph):\n",
    "        self.edges[from_subgraph].append(to_subgraph)"
   ]
  },
  {
   "cell_type": "code",
   "execution_count": 7,
   "metadata": {},
   "outputs": [],
   "source": [
    "from collections import deque\n",
    "\n",
    "class BFS:\n",
    "    def __init__(self, graph, start_subgraph):\n",
    "        self.graph = graph\n",
    "        self.start_subgraph = start_subgraph\n",
    "\n",
    "    def search(self):\n",
    "        visited = set()\n",
    "        queue = deque([self.start_subgraph])\n",
    "\n",
    "        while queue:\n",
    "            current = queue.popleft()\n",
    "            if current not in visited:\n",
    "                print(f\"Visiting Subgraph: {current.cfg_info}\")\n",
    "                event = current.ar_event_head #遍历event\n",
    "                while event:\n",
    "                    print(f\"Event: {event.spike} {event.count}\")\n",
    "                    event = event.next\n",
    "                visited.add(current)\n",
    "                for neighbor in self.graph.edges[current]:\n",
    "                    if neighbor not in visited:\n",
    "                        queue.append(neighbor)"
   ]
  },
  {
   "cell_type": "code",
   "execution_count": 8,
   "metadata": {},
   "outputs": [],
   "source": [
    "# 创建Subgraph实例\n",
    "subgraph1 = Subgraph(cfg_info=\"Subgraph 1\")\n",
    "subgraph2 = Subgraph(cfg_info=\"Subgraph 2\")\n",
    "subgraph3 = Subgraph(cfg_info=\"Subgraph 3\")\n",
    "subgraph4 = Subgraph(cfg_info=\"Subgraph 4\")\n",
    "\n",
    "# 创建Event实例\n",
    "event1 = Event(spike=\"Event 1 Spike\", count=1)\n",
    "event2 = Event(spike=\"Event 2 Spike\", count=2)\n",
    "event3 = Event(spike=\"Event 3 Spike\", count=3)\n",
    "event4 = Event(spike=\"Event 4 Spike\", count=4)\n",
    "\n",
    "# 将事件添加到Subgraph中\n",
    "subgraph1.add_ar_event(event1)\n",
    "subgraph2.add_ar_event(event2)\n",
    "subgraph3.add_ar_event(event3)\n",
    "subgraph4.add_ar_event(event4)\n",
    "\n",
    "# 创建Graph实例\n",
    "graph = Graph()\n",
    "\n",
    "# 添加Subgraph到Graph\n",
    "graph.add_subgraph(subgraph1)\n",
    "graph.add_subgraph(subgraph2)\n",
    "graph.add_subgraph(subgraph3)\n",
    "graph.add_subgraph(subgraph4)\n",
    "\n",
    "# 设置边，定义图的结构\n",
    "graph.add_edge(subgraph1, subgraph2)\n",
    "graph.add_edge(subgraph1, subgraph3)\n",
    "graph.add_edge(subgraph2, subgraph4)\n",
    "graph.add_edge(subgraph3, subgraph4)\n"
   ]
  },
  {
   "cell_type": "code",
   "execution_count": 9,
   "metadata": {},
   "outputs": [
    {
     "name": "stdout",
     "output_type": "stream",
     "text": [
      "Visiting Subgraph: Subgraph 1\n",
      "Event: Event 1 Spike 1\n",
      "Visiting Subgraph: Subgraph 2\n",
      "Event: Event 2 Spike 2\n",
      "Visiting Subgraph: Subgraph 3\n",
      "Event: Event 3 Spike 3\n",
      "Visiting Subgraph: Subgraph 4\n",
      "Event: Event 4 Spike 4\n"
     ]
    }
   ],
   "source": [
    "# 创建BFS实例，从subgraph1开始搜索\n",
    "bfs = BFS(graph, subgraph1)\n",
    "\n",
    "# 执行搜索\n",
    "bfs.search()\n"
   ]
  },
  {
   "cell_type": "markdown",
   "metadata": {},
   "source": [
    "## 多核资源调度\n",
    "资源随处理器核，任务随处理器核\n"
   ]
  },
  {
   "cell_type": "markdown",
   "metadata": {},
   "source": [
    "### 分布式调度\n",
    "每个核各有一个子图队列，子图扩展按核进行\n",
    "多任务资源调度，按进程调度策略进行"
   ]
  },
  {
   "cell_type": "markdown",
   "metadata": {},
   "source": [
    "### 集中调度\n",
    "多个核共用一个子图队列\n",
    "进程调度根据共享子图队列状态进行"
   ]
  }
 ],
 "metadata": {
  "kernelspec": {
   "display_name": "Python 3",
   "language": "python",
   "name": "python3"
  },
  "language_info": {
   "codemirror_mode": {
    "name": "ipython",
    "version": 3
   },
   "file_extension": ".py",
   "mimetype": "text/x-python",
   "name": "python",
   "nbconvert_exporter": "python",
   "pygments_lexer": "ipython3",
   "version": "3.9.0"
  }
 },
 "nbformat": 4,
 "nbformat_minor": 2
}
