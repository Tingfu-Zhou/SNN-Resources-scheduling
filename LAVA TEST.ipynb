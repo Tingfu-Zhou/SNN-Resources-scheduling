{
 "cells": [
  {
   "cell_type": "markdown",
   "metadata": {},
   "source": [
    "# 总体目标：\n",
    "\n",
    "由于事件驱动的计算架构是静态映射，需要先申请N个神经元\n",
    "SNN模型：第一层n_1个神经元，第二层n_2个....\n",
    "\n",
    "core 1 包含n_1和n_2个神经元（假设就是两个群），core 2和core 3包含n_3的神经元....\n",
    "\n",
    "把这些神经元，群，core组成模型的拓扑结构\n"
   ]
  },
  {
   "cell_type": "markdown",
   "metadata": {},
   "source": [
    "## step 1：\n",
    "创建进程（process）,确定每个计算核心（core）上需要多少神经元"
   ]
  },
  {
   "cell_type": "markdown",
   "metadata": {},
   "source": [
    "### step 1.1:\n",
    "定义神经元这个类，这里以LIF为例"
   ]
  },
  {
   "cell_type": "code",
   "execution_count": 1,
   "metadata": {},
   "outputs": [],
   "source": [
    "from lava.magma.core.process.process import AbstractProcess\n",
    "from lava.magma.core.process.variable import Var\n",
    "from lava.magma.core.process.ports.ports import InPort, OutPort\n",
    "\n",
    "class LIF(AbstractProcess):\n",
    "    \"\"\"Leaky-Integrate-and-Fire (LIF) neural Process.\n",
    "\n",
    "    LIF dynamics abstracts to:\n",
    "    u[t] = u[t-1] * (1-du) + a_in                              # neuron current\n",
    "    v[t] = v[t-1] * (1-dv) + u[t] + bias_mant * 2 ** bias_exp  # neuron voltage\n",
    "    s_out = v[t] > vth                                         # spike if threshold is exceeded\n",
    "    v[t] = 0                                                   # reset at spike\n",
    "\n",
    "    Parameters\n",
    "    ----------\n",
    "    du: Inverse of decay time-constant for current decay.\n",
    "    dv: Inverse of decay time-constant for voltage decay.\n",
    "    bias_mant: Mantissa part of neuron bias.\n",
    "    bias_exp: Exponent part of neuron bias, if needed. Mostly for fixed point\n",
    "              implementations. Unnecessary for floating point\n",
    "              implementations. If specified, bias = bias_mant * 2**bias_exp.\n",
    "    vth: Neuron threshold voltage, exceeding which, the neuron will spike.\n",
    "    \"\"\"\n",
    "    def __init__(self, **kwargs):\n",
    "        super().__init__()\n",
    "        shape = kwargs.get(\"shape\", (1,))\n",
    "        du = kwargs.pop(\"du\", 0)\n",
    "        dv = kwargs.pop(\"dv\", 0)\n",
    "        bias_mant = kwargs.pop(\"bias_mant\", 0)\n",
    "        bias_exp = kwargs.pop(\"bias_exp\", 0)\n",
    "        vth = kwargs.pop(\"vth\", 10)\n",
    "\n",
    "        self.shape = shape\n",
    "        self.a_in = InPort(shape=shape)\n",
    "        self.s_out = OutPort(shape=shape)\n",
    "        self.u = Var(shape=shape, init=0)\n",
    "        self.v = Var(shape=shape, init=0)\n",
    "        self.du = Var(shape=(1,), init=du)\n",
    "        self.dv = Var(shape=(1,), init=dv)\n",
    "        self.bias_mant = Var(shape=shape, init=bias_mant)\n",
    "        self.bias_exp = Var(shape=shape, init=bias_exp)\n",
    "        self.vth = Var(shape=(1,), init=vth)"
   ]
  },
  {
   "cell_type": "markdown",
   "metadata": {},
   "source": [
    "## step 2: \n",
    "定义该process的具体行为。\n",
    "这里用\"@requires\"确定所需的计算资源，"
   ]
  },
  {
   "cell_type": "code",
   "execution_count": 3,
   "metadata": {},
   "outputs": [],
   "source": [
    "import numpy as np\n",
    "from lava.magma.core.sync.protocols.loihi_protocol import LoihiProtocol\n",
    "from lava.magma.core.model.py.ports import PyInPort, PyOutPort\n",
    "from lava.magma.core.model.py.type import LavaPyType\n",
    "from lava.magma.core.resources import CPU\n",
    "from lava.magma.core.decorator import implements, requires, tag\n",
    "from lava.magma.core.model.py.model import PyLoihiProcessModel\n",
    "\n",
    "@implements(proc=LIF, protocol=LoihiProtocol)\n",
    "@requires(CPU)\n",
    "@tag('floating_pt')\n",
    "class PyLifModel1(PyLoihiProcessModel):\n",
    "    a_in: PyInPort = LavaPyType(PyInPort.VEC_DENSE, float)\n",
    "    s_out: PyOutPort = LavaPyType(PyOutPort.VEC_DENSE, bool, precision=1)\n",
    "    u: np.ndarray = LavaPyType(np.ndarray, float)\n",
    "    v: np.ndarray = LavaPyType(np.ndarray, float)\n",
    "    bias_mant: np.ndarray = LavaPyType(np.ndarray, float)\n",
    "    bias_exp: np.ndarray = LavaPyType(np.ndarray, float)\n",
    "    du: float = LavaPyType(float, float)\n",
    "    dv: float = LavaPyType(float, float)\n",
    "    vth: float = LavaPyType(float, float)\n",
    "\n",
    "    def run_spk(self):\n",
    "        a_in_data = self.a_in.recv()\n",
    "        self.u[:] = self.u * (1 - self.du)\n",
    "        self.u[:] += a_in_data\n",
    "        bias = self.bias_mant * (2 ** self.bias_exp)\n",
    "        self.v[:] = self.v * (1 - self.dv) + self.u + bias\n",
    "        s_out = self.v >= self.vth\n",
    "        self.v[s_out] = 0  # Reset voltage to 0\n",
    "        self.s_out.send(\n",
    "            \n",
    "            \n",
    "        )"
   ]
  },
  {
   "cell_type": "markdown",
   "metadata": {},
   "source": [
    "## step 3: \n",
    "实例化，确定在之前的计算核心上需要几个神经元"
   ]
  },
  {
   "cell_type": "code",
   "execution_count": 4,
   "metadata": {},
   "outputs": [],
   "source": [
    "from lava.magma.core.run_configs import Loihi1SimCfg\n",
    "from lava.magma.core.run_conditions import RunSteps\n",
    "\n",
    "n_neurons = 3\n",
    "lif = LIF(shape=(3,), du=0, dv=0, bias_mant=3, vth=10)"
   ]
  },
  {
   "cell_type": "markdown",
   "metadata": {},
   "source": [
    "## step 4: 执行\n",
    "其中 RunSteps 类用于指定一个过程（Process）应该被执行多长时间，具体来说是以时间步长（time steps）为单位。时间步长（time steps）是计算模型和模拟环境中用于推进系统状态的最小时间间隔。它也被称为动力学速率。时间步长的大小会影响模拟的精度和效率。较小的时间步长可以提高精度，但会增加计算成本。较大的时间步长可以提高效率，但可能会降低精度。"
   ]
  },
  {
   "cell_type": "markdown",
   "metadata": {},
   "source": [
    "利用实例测下来，我PC上时间耗费偏长"
   ]
  },
  {
   "cell_type": "code",
   "execution_count": null,
   "metadata": {},
   "outputs": [],
   "source": [
    "run_cfg = Loihi1SimCfg()\n",
    "lif.run(condition=RunSteps(num_steps=1), run_cfg=run_cfg)\n",
    "print(lif.v.get())"
   ]
  },
  {
   "cell_type": "markdown",
   "metadata": {},
   "source": [
    "下面我试着用小的例子测试"
   ]
  },
  {
   "cell_type": "code",
   "execution_count": 6,
   "metadata": {},
   "outputs": [],
   "source": [
    "lif = LIF(shape=(1,))\n",
    "lif.run(condition=RunSteps(num_steps=1), run_cfg=Loihi1SimCfg())\n",
    "#时间依旧偏长"
   ]
  },
  {
   "cell_type": "code",
   "execution_count": 5,
   "metadata": {},
   "outputs": [
    {
     "ename": "TypeError",
     "evalue": "__init__() got an unexpected keyword argument 'dt'",
     "output_type": "error",
     "traceback": [
      "\u001b[1;31m---------------------------------------------------------------------------\u001b[0m",
      "\u001b[1;31mTypeError\u001b[0m                                 Traceback (most recent call last)",
      "Cell \u001b[1;32mIn[5], line 3\u001b[0m\n\u001b[0;32m      1\u001b[0m lif \u001b[38;5;241m=\u001b[39m LIF(shape\u001b[38;5;241m=\u001b[39m(\u001b[38;5;241m1\u001b[39m,))\n\u001b[0;32m      2\u001b[0m \u001b[38;5;66;03m# 设置时间步长为1毫秒\u001b[39;00m\n\u001b[1;32m----> 3\u001b[0m sim_cfg \u001b[38;5;241m=\u001b[39m \u001b[43mLoihi1SimCfg\u001b[49m\u001b[43m(\u001b[49m\u001b[43mdt\u001b[49m\u001b[38;5;241;43m=\u001b[39;49m\u001b[38;5;241;43m0.001\u001b[39;49m\u001b[43m)\u001b[49m\n\u001b[0;32m      5\u001b[0m \u001b[38;5;66;03m# 创建仿真过程并运行\u001b[39;00m\n\u001b[0;32m      6\u001b[0m lif\u001b[38;5;241m.\u001b[39mrun(condition\u001b[38;5;241m=\u001b[39mRunSteps(num_steps\u001b[38;5;241m=\u001b[39m\u001b[38;5;241m1\u001b[39m), run_cfg\u001b[38;5;241m=\u001b[39msim_cfg)\n",
      "\u001b[1;31mTypeError\u001b[0m: __init__() got an unexpected keyword argument 'dt'"
     ]
    }
   ],
   "source": [
    "lif = LIF(shape=(1,))\n",
    "# 设置时间步长为1毫秒\n",
    "sim_cfg = Loihi1SimCfg(dt=0.001)\n",
    "\n",
    "# 创建仿真过程并运行\n",
    "lif.run(condition=RunSteps(num_steps=1), run_cfg=sim_cfg)"
   ]
  },
  {
   "cell_type": "markdown",
   "metadata": {},
   "source": [
    "## CPU中模拟Loihi\n",
    "Loihi1SimCfg 是一种运行配置（RunConfig），它指定了在模拟环境中使用单个CPU来模拟Loihi 1芯片的行为。这种配置使得开发者可以在没有实际Loihi硬件的情况下测试和开发与Loihi 1兼容的过程和模型。\n",
    "\n",
    "因此下面的代码是使用Loihi1SimCfg()运行配置来在模拟Loihi 1环境中执行42个时间步。这意味着lif过程将会在CPU上模拟Loihi 1的行为，而不是在实际的Loihi 1硬件上运行。"
   ]
  },
  {
   "cell_type": "code",
   "execution_count": 1,
   "metadata": {},
   "outputs": [],
   "source": [
    "from lava.magma.core.run_configs import Loihi1SimCfg\n",
    "\n",
    "run_cfg = Loihi1SimCfg()\n",
    "from lava.proc.lif.process import LIF\n",
    "from lava.magma.core.run_conditions import RunSteps\n",
    "\n",
    "# create a Process for a LIF neuron\n",
    "lif = LIF(shape=(1,))\n",
    "\n",
    "# execute that Process for 42 time steps in simulation\n",
    "lif.run(condition=RunSteps(num_steps=42), run_cfg=Loihi1SimCfg())\n"
   ]
  },
  {
   "cell_type": "markdown",
   "metadata": {},
   "source": [
    "## 神经元组成的群\n",
    "设定每个群的神经元数量，数个群在一块计算资源上（core）上运行"
   ]
  },
  {
   "cell_type": "code",
   "execution_count": 5,
   "metadata": {},
   "outputs": [],
   "source": [
    "from lava.magma.core.process.process import AbstractProcess\n",
    "from lava.magma.core.process.variable import Var\n",
    "from lava.magma.core.process.ports.ports import InPort, OutPort\n",
    "\n",
    "\n",
    "class Dense(AbstractProcess):\n",
    "    \"\"\"Dense connections between neurons.\n",
    "    Realizes the following abstract behavior:\n",
    "    a_out = W * s_in\n",
    "    \"\"\"\n",
    "\n",
    "    def __init__(self, **kwargs):\n",
    "        super().__init__(**kwargs)\n",
    "        shape = kwargs.get(\"shape\", (1, 1))\n",
    "        self.s_in = InPort(shape=(shape[1],))\n",
    "        self.a_out = OutPort(shape=(shape[0],))\n",
    "        self.weights = Var(shape=shape, init=kwargs.pop(\"weights\", 0))"
   ]
  },
  {
   "cell_type": "code",
   "execution_count": 6,
   "metadata": {},
   "outputs": [],
   "source": [
    "import numpy as np\n",
    "from lava.proc.lif.process import LIF\n",
    "from lava.proc.dense.process import Dense\n",
    "from lava.magma.core.run_conditions import RunSteps\n",
    "from lava.magma.core.run_configs import Loihi1SimCfg\n",
    "\n",
    "# create processes\n",
    "lif1 = LIF(shape=(1,))\n",
    "dense = Dense(weights=np.eye(1))\n",
    "lif2 = LIF(shape=(1,))\n",
    "\n",
    "# connect the OutPort of lif1 to the InPort of dense\n",
    "lif1.s_out.connect(dense.s_in)\n",
    "# connect the OutPort of dense to the InPort of lif2\n",
    "dense.a_out.connect(lif2.a_in)\n",
    "\n",
    "# execute Process lif2 and all Processes connected to it (dense, lif1)\n",
    "lif2.run(condition=RunSteps(num_steps=42), run_cfg=Loihi1SimCfg())"
   ]
  },
  {
   "cell_type": "markdown",
   "metadata": {},
   "source": [
    "## 进程process之间的信号传输"
   ]
  },
  {
   "cell_type": "code",
   "execution_count": 1,
   "metadata": {},
   "outputs": [],
   "source": [
    "from lava.magma.core.process.process import AbstractProcess\n",
    "from lava.magma.core.process.ports.ports import InPort, OutPort\n",
    "import numpy as np\n",
    "from lava.magma.core.model.py.model import PyLoihiProcessModel\n",
    "from lava.magma.core.decorator import implements, requires, tag\n",
    "from lava.magma.core.resources import CPU\n",
    "from lava.magma.core.model.py.type import LavaPyType\n",
    "from lava.magma.core.model.py.ports import PyInPort, PyOutPort\n",
    "from lava.magma.core.sync.protocols.loihi_protocol import LoihiProtocol\n",
    "from lava.magma.core.run_configs import Loihi1SimCfg\n",
    "from lava.magma.core.run_conditions import RunSteps"
   ]
  },
  {
   "cell_type": "markdown",
   "metadata": {},
   "source": [
    "先定义演示用的抽象类"
   ]
  },
  {
   "cell_type": "code",
   "execution_count": 3,
   "metadata": {},
   "outputs": [],
   "source": [
    "# Minimal process with an OutPort\n",
    "class P1(AbstractProcess):\n",
    "    def __init__(self, **kwargs):\n",
    "        super().__init__(**kwargs)\n",
    "        shape = kwargs.get('shape', (2,))\n",
    "        self.out = OutPort(shape=shape)\n",
    "\n",
    "\n",
    "# Minimal process with an InPort\n",
    "class P2(AbstractProcess):\n",
    "    def __init__(self, **kwargs):\n",
    "        super().__init__(**kwargs)\n",
    "        shape = kwargs.get('shape', (2,))\n",
    "        self.inp = InPort(shape=shape)"
   ]
  },
  {
   "cell_type": "code",
   "execution_count": 4,
   "metadata": {},
   "outputs": [],
   "source": [
    "# A minimal PyProcModel implementing P1\n",
    "@implements(proc=P1, protocol=LoihiProtocol)\n",
    "@requires(CPU)\n",
    "@tag('floating_pt')\n",
    "class PyProcModelA(PyLoihiProcessModel):\n",
    "    out: PyOutPort = LavaPyType(PyOutPort.VEC_DENSE, int)\n",
    "\n",
    "    def run_spk(self):\n",
    "        data = np.array([1, 2])\n",
    "        self.out.send(data)\n",
    "        print(\"Sent output data of P1: {}\".format(data))\n",
    "\n",
    "\n",
    "\n",
    "# A minimal PyProcModel implementing P2\n",
    "@implements(proc=P2, protocol=LoihiProtocol)\n",
    "@requires(CPU)\n",
    "@tag('floating_pt')\n",
    "class PyProcModelB(PyLoihiProcessModel):\n",
    "    inp: PyInPort = LavaPyType(PyInPort.VEC_DENSE, int)\n",
    "\n",
    "    def run_spk(self):\n",
    "        in_data = self.inp.recv()\n",
    "        print(\"Received input data for P2: {}\".format(in_data))"
   ]
  },
  {
   "cell_type": "markdown",
   "metadata": {},
   "source": [
    "实例化"
   ]
  },
  {
   "cell_type": "code",
   "execution_count": 5,
   "metadata": {},
   "outputs": [],
   "source": [
    "sender = P1()\n",
    "recv = P2()\n",
    "\n",
    "# Connecting output port to an input port\n",
    "sender.out.connect(recv.inp)\n",
    "\n",
    "sender = P1()\n",
    "recv = P2()\n",
    "\n",
    "# ... or connecting an input port from an output port\n",
    "recv.inp.connect_from(sender.out)"
   ]
  },
  {
   "cell_type": "code",
   "execution_count": 6,
   "metadata": {},
   "outputs": [],
   "source": [
    "sender.run(RunSteps(num_steps=1), Loihi1SimCfg())\n",
    "sender.stop()"
   ]
  }
 ],
 "metadata": {
  "kernelspec": {
   "display_name": "Python 3",
   "language": "python",
   "name": "python3"
  },
  "language_info": {
   "codemirror_mode": {
    "name": "ipython",
    "version": 3
   },
   "file_extension": ".py",
   "mimetype": "text/x-python",
   "name": "python",
   "nbconvert_exporter": "python",
   "pygments_lexer": "ipython3",
   "version": "3.9.0"
  }
 },
 "nbformat": 4,
 "nbformat_minor": 2
}
